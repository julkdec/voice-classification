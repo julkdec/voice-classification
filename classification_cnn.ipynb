{
  "nbformat": 4,
  "nbformat_minor": 0,
  "metadata": {
    "colab": {
      "name": "inż CNN.ipynb",
      "provenance": []
    },
    "kernelspec": {
      "name": "python3",
      "display_name": "Python 3"
    },
    "language_info": {
      "name": "python"
    }
  },
  "cells": [
    {
      "cell_type": "code",
      "execution_count": null,
      "metadata": {
        "id": "ujIN6s3ildJf"
      },
      "outputs": [],
      "source": [
        "from tensorflow.python.keras.layers.core import Dropout\n",
        "import numpy as np\n",
        "import pandas as pd\n",
        "import tensorflow as tf\n",
        "from tensorflow import keras\n",
        "import random\n",
        "import librosa\n",
        "\n",
        "from tensorflow.keras.models import Sequential \n",
        "from tensorflow.keras.layers import Dense, Convolution2D, Conv2D, MaxPooling2D, GlobalAveragePooling2D, Conv1D, MaxPooling1D, LSTM, Dropout, Flatten\n",
        "from tensorflow.keras.preprocessing.image import ImageDataGenerator\n",
        "from pydub import AudioSegment\n",
        "\n",
        "import os\n",
        "import cv2\n",
        "import shutil \n",
        "from glob import glob\n",
        "\n",
        "import matplotlib.pyplot as plt\n",
        "%matplotlib inline"
      ]
    },
    {
      "cell_type": "code",
      "source": [
        "pip install pydub"
      ],
      "metadata": {
        "colab": {
          "base_uri": "https://localhost:8080/"
        },
        "id": "yQC9oY4s5GxA",
        "outputId": "1c5d0e30-0efb-40ac-fcff-329f35371377"
      },
      "execution_count": null,
      "outputs": [
        {
          "output_type": "stream",
          "name": "stdout",
          "text": [
            "Collecting pydub\n",
            "  Downloading pydub-0.25.1-py2.py3-none-any.whl (32 kB)\n",
            "Installing collected packages: pydub\n",
            "Successfully installed pydub-0.25.1\n"
          ]
        }
      ]
    },
    {
      "cell_type": "code",
      "source": [
        "from google.colab import drive\n",
        "drive.mount('/content/drive')"
      ],
      "metadata": {
        "colab": {
          "base_uri": "https://localhost:8080/"
        },
        "id": "U715VsFGlsst",
        "outputId": "99fac177-4ea8-45fa-b633-d36dd4bb8264"
      },
      "execution_count": null,
      "outputs": [
        {
          "output_type": "stream",
          "name": "stdout",
          "text": [
            "Mounted at /content/drive\n"
          ]
        }
      ]
    },
    {
      "cell_type": "code",
      "source": [
        "curr_dir =  os.path.join(\"/content/drive/MyDrive/inż-dane/#morgen/H\")\n",
        "%cd \"$curr_dir\""
      ],
      "metadata": {
        "colab": {
          "base_uri": "https://localhost:8080/"
        },
        "id": "ENzxKCOImIQo",
        "outputId": "0987853a-9e4b-44d2-df96-0558a078d40d"
      },
      "execution_count": null,
      "outputs": [
        {
          "output_type": "stream",
          "name": "stdout",
          "text": [
            "/content/drive/MyDrive/inż-dane/#morgen/H\n"
          ]
        }
      ]
    },
    {
      "cell_type": "code",
      "source": [
        "for file_name in os.listdir(curr_dir):\n",
        "  if file_name.endswith(\".wav\") and file_name.startswith(\"zz\"):\n",
        "    audio1 = AudioSegment.from_file(file_name, \"wav\")\n",
        "    normalized_audio1 = audio1.apply_gain(-audio1.max_dBFS)\n",
        "    name = \"new_normalized_\" + file_name.split('_')[1]\n",
        "    normalized_audio1.export(name, format=\"wav\")"
      ],
      "metadata": {
        "id": "C3HajBVumMuJ"
      },
      "execution_count": null,
      "outputs": []
    },
    {
      "cell_type": "code",
      "source": [
        "e_f = []\n",
        "classes = set()"
      ],
      "metadata": {
        "id": "uq_qj_A2mNZV"
      },
      "execution_count": null,
      "outputs": []
    },
    {
      "cell_type": "code",
      "source": [
        "def extract_features(file_name):\n",
        "    max_pad_len = 400\n",
        "    try:\n",
        "        audio, sample_rate = librosa.load(file_name, res_type='kaiser_fast') \n",
        "        mfccs = librosa.feature.mfcc(audio, 44100, n_mfcc=40, hop_length=441, win_length=882, window='hamm', center=True) #n_mels=20)\n",
        "        pad_width = max_pad_len - mfccs.shape[1]\n",
        "        mfccs = np.pad(mfccs, pad_width=((0, 0), (0, pad_width)), mode='constant')\n",
        "        #print(mfccs.shape)\n",
        "\n",
        "    except Exception as e:\n",
        "        print(\"Error encountered while parsing file: \", file_name)\n",
        "        print(mfccs.shape[1])\n",
        "        return None \n",
        "     \n",
        "    return mfccs"
      ],
      "metadata": {
        "id": "R6BGJpcKmmpT"
      },
      "execution_count": null,
      "outputs": []
    },
    {
      "cell_type": "code",
      "source": [
        "curr_dir =  os.path.join(\"/content/drive/MyDrive/inż-dane/#morgen/H\")\n",
        "%cd \"$curr_dir\""
      ],
      "metadata": {
        "colab": {
          "base_uri": "https://localhost:8080/"
        },
        "id": "-bOJCLXZwDTw",
        "outputId": "9244f376-a7a0-47af-b071-18842576f4bc"
      },
      "execution_count": null,
      "outputs": [
        {
          "output_type": "stream",
          "name": "stdout",
          "text": [
            "/content/drive/MyDrive/inż-dane/#morgen/H\n"
          ]
        }
      ]
    },
    {
      "cell_type": "code",
      "source": [
        "for filename in os.listdir(curr_dir): #tqdm(metadata.iterrows()):\n",
        "  if filename.startswith(\"norm\"):\n",
        "    class_label=\"H\"\n",
        "    #print(filename)\n",
        "    classes.add(class_label)\n",
        "    data=extract_features(filename)\n",
        "    e_f.append([data,class_label])"
      ],
      "metadata": {
        "id": "XYyv-mEnmTh7"
      },
      "execution_count": null,
      "outputs": []
    },
    {
      "cell_type": "code",
      "source": [
        "len(e_f)"
      ],
      "metadata": {
        "colab": {
          "base_uri": "https://localhost:8080/"
        },
        "id": "GcewWZglXhPA",
        "outputId": "96470e17-17b2-4ac6-e5ca-466bf2e29a3c"
      },
      "execution_count": null,
      "outputs": [
        {
          "output_type": "execute_result",
          "data": {
            "text/plain": [
              "631"
            ]
          },
          "metadata": {},
          "execution_count": 53
        }
      ]
    },
    {
      "cell_type": "code",
      "source": [
        "curr_dir = os.path.join(\"/content/drive/MyDrive/inż-dane/#morgen/P\")\n",
        "%cd $curr_dir"
      ],
      "metadata": {
        "colab": {
          "base_uri": "https://localhost:8080/"
        },
        "id": "2HZEPPdGmqX6",
        "outputId": "533b0bf2-8cfc-47ec-c2cd-3e019322f267"
      },
      "execution_count": null,
      "outputs": [
        {
          "output_type": "stream",
          "name": "stdout",
          "text": [
            "/content/drive/MyDrive/inż-dane/#morgen/P\n"
          ]
        }
      ]
    },
    {
      "cell_type": "code",
      "source": [
        "for filename in os.listdir(curr_dir): #tqdm(metadata.iterrows()):\n",
        "  if filename.startswith(\"norm\") and (len(AudioSegment.from_wav(filename))>0):\n",
        "    class_label=\"P\"\n",
        "    classes.add(class_label)\n",
        "    data=extract_features(filename)\n",
        "    e_f.append([data,class_label])"
      ],
      "metadata": {
        "id": "fVkcqxIfmsGc"
      },
      "execution_count": null,
      "outputs": []
    },
    {
      "cell_type": "code",
      "source": [
        "len(e_f)"
      ],
      "metadata": {
        "colab": {
          "base_uri": "https://localhost:8080/"
        },
        "id": "pmBSojgjX1WI",
        "outputId": "92f11515-9a91-4edc-dd00-b1ec4ac84d8f"
      },
      "execution_count": null,
      "outputs": [
        {
          "output_type": "execute_result",
          "data": {
            "text/plain": [
              "1975"
            ]
          },
          "metadata": {},
          "execution_count": 56
        }
      ]
    },
    {
      "cell_type": "code",
      "source": [
        "from tensorflow.keras.utils import to_categorical\n",
        "from sklearn.preprocessing import LabelEncoder\n",
        "from sklearn.model_selection import train_test_split"
      ],
      "metadata": {
        "id": "nNDTZ60CndTw"
      },
      "execution_count": null,
      "outputs": []
    },
    {
      "cell_type": "code",
      "source": [
        "featuresdf = pd.DataFrame(e_f, columns=['feature', 'class_label'])\n",
        "\n",
        "print(classes)\n",
        "\n",
        "X1 = np.array(featuresdf.feature.tolist())\n",
        "y1 = np.array(featuresdf.class_label.tolist())\n",
        "\n",
        "print(X1.shape)\n",
        "print(y1.shape)\n",
        "\n",
        "le = LabelEncoder()\n",
        "yy = to_categorical(le.fit_transform(y1))\n",
        "\n",
        "print(yy.shape)\n",
        "\n",
        "X_train, X_test, y_train, y_test = train_test_split(X1, yy, test_size=0.2, random_state=42)"
      ],
      "metadata": {
        "colab": {
          "base_uri": "https://localhost:8080/"
        },
        "id": "FkvrZLojmzuK",
        "outputId": "23c45d5f-670c-414a-fc1b-92e59b6f06f8"
      },
      "execution_count": null,
      "outputs": [
        {
          "output_type": "stream",
          "name": "stdout",
          "text": [
            "{'H', 'P'}\n",
            "(1975, 40, 400)\n",
            "(1975,)\n",
            "(1975, 2)\n"
          ]
        }
      ]
    },
    {
      "cell_type": "code",
      "source": [
        "X_train.shape"
      ],
      "metadata": {
        "colab": {
          "base_uri": "https://localhost:8080/"
        },
        "id": "Eyq7U11tX-Se",
        "outputId": "50adb27e-c331-4d12-d231-c5d1db1bebdb"
      },
      "execution_count": null,
      "outputs": [
        {
          "output_type": "execute_result",
          "data": {
            "text/plain": [
              "(1580, 40, 400)"
            ]
          },
          "metadata": {},
          "execution_count": 58
        }
      ]
    },
    {
      "cell_type": "code",
      "source": [
        "num_rows = 40\n",
        "num_columns = 400\n",
        "num_channels = 1\n",
        "\n",
        "X_train = X_train.reshape(X_train.shape[0], num_rows, num_columns, num_channels)\n",
        "X_test = X_test.reshape(X_test.shape[0], num_rows, num_columns, num_channels)\n",
        "\n",
        "num_labels = yy.shape[1]\n",
        "filter_size = 2\n",
        "\n"
      ],
      "metadata": {
        "id": "W-JL-tY-m22Z"
      },
      "execution_count": null,
      "outputs": []
    },
    {
      "cell_type": "code",
      "source": [
        "def construct_model():\n",
        "\t \n",
        "\tmodel = Sequential()\n",
        "\tmodel.add(Conv2D(filters=16, kernel_size=2, input_shape=(num_rows, num_columns, num_channels), activation='relu'))\n",
        "\tmodel.add(MaxPooling2D(pool_size=2))\n",
        "\tmodel.add(Dropout(0.2))\n",
        "\t\n",
        "\tmodel.add(Conv2D(filters=32, kernel_size=2, activation='relu'))\n",
        "\tmodel.add(MaxPooling2D(pool_size=2))\n",
        "\tmodel.add(Dropout(0.2))\n",
        "\t\n",
        "\tmodel.add(Conv2D(filters=64, kernel_size=2, activation='relu'))\n",
        "\tmodel.add(MaxPooling2D(pool_size=2))\n",
        "\tmodel.add(Dropout(0.2))\n",
        "\t\n",
        "\tmodel.add(Conv2D(filters=128, kernel_size=2, activation='relu'))\n",
        "\tmodel.add(MaxPooling2D(pool_size=2))\n",
        "\tmodel.add(Dropout(0.2))\n",
        "\tmodel.add(GlobalAveragePooling2D())\n",
        "\n",
        "\t\n",
        "\n",
        "\n",
        "\tmodel.add(Flatten())\n",
        " \n",
        "\tmodel.add(Dense(128, activation = 'relu'))\n",
        " \n",
        "\tmodel.add(Dropout(0.2))\n",
        "\tmodel.add(Dense(64, activation = 'relu'))\n",
        " \n",
        "  \n",
        "\t\n",
        "\tmodel.add(Dense(num_labels, activation='sigmoid'))\n",
        "\t\n",
        "\t# Compile the model\n",
        "\tmodel.compile(loss=tf.keras.losses.BinaryCrossentropy(), metrics=['accuracy'], optimizer='adam') \n",
        "\t\n",
        "\t# Display model architecture summary \n",
        "\tmodel.summary()\n",
        "\n",
        "\t\n",
        "\n",
        "\treturn model\n",
        "\n",
        "\n",
        "model = construct_model()\n",
        "\n",
        "\n"
      ],
      "metadata": {
        "colab": {
          "base_uri": "https://localhost:8080/"
        },
        "id": "sh-_wgTQm5de",
        "outputId": "742ae355-19af-4d9a-e47f-3c8910584d0d"
      },
      "execution_count": null,
      "outputs": [
        {
          "output_type": "stream",
          "name": "stdout",
          "text": [
            "Model: \"sequential_2\"\n",
            "_________________________________________________________________\n",
            " Layer (type)                Output Shape              Param #   \n",
            "=================================================================\n",
            " conv2d_8 (Conv2D)           (None, 39, 399, 16)       80        \n",
            "                                                                 \n",
            " max_pooling2d_8 (MaxPooling  (None, 19, 199, 16)      0         \n",
            " 2D)                                                             \n",
            "                                                                 \n",
            " dropout_9 (Dropout)         (None, 19, 199, 16)       0         \n",
            "                                                                 \n",
            " conv2d_9 (Conv2D)           (None, 18, 198, 32)       2080      \n",
            "                                                                 \n",
            " max_pooling2d_9 (MaxPooling  (None, 9, 99, 32)        0         \n",
            " 2D)                                                             \n",
            "                                                                 \n",
            " dropout_10 (Dropout)        (None, 9, 99, 32)         0         \n",
            "                                                                 \n",
            " conv2d_10 (Conv2D)          (None, 8, 98, 64)         8256      \n",
            "                                                                 \n",
            " max_pooling2d_10 (MaxPoolin  (None, 4, 49, 64)        0         \n",
            " g2D)                                                            \n",
            "                                                                 \n",
            " dropout_11 (Dropout)        (None, 4, 49, 64)         0         \n",
            "                                                                 \n",
            " conv2d_11 (Conv2D)          (None, 3, 48, 128)        32896     \n",
            "                                                                 \n",
            " max_pooling2d_11 (MaxPoolin  (None, 1, 24, 128)       0         \n",
            " g2D)                                                            \n",
            "                                                                 \n",
            " dropout_12 (Dropout)        (None, 1, 24, 128)        0         \n",
            "                                                                 \n",
            " global_average_pooling2d_2   (None, 128)              0         \n",
            " (GlobalAveragePooling2D)                                        \n",
            "                                                                 \n",
            " flatten_1 (Flatten)         (None, 128)               0         \n",
            "                                                                 \n",
            " dense_3 (Dense)             (None, 128)               16512     \n",
            "                                                                 \n",
            " dropout_13 (Dropout)        (None, 128)               0         \n",
            "                                                                 \n",
            " dense_4 (Dense)             (None, 64)                8256      \n",
            "                                                                 \n",
            " dense_5 (Dense)             (None, 2)                 130       \n",
            "                                                                 \n",
            "=================================================================\n",
            "Total params: 68,210\n",
            "Trainable params: 68,210\n",
            "Non-trainable params: 0\n",
            "_________________________________________________________________\n"
          ]
        }
      ]
    },
    {
      "cell_type": "code",
      "source": [
        "from tensorflow.keras.callbacks import ModelCheckpoint\n",
        "from datetime import datetime \n",
        "\n",
        "num_epochs = 100\n",
        "num_batch_size = 128\n",
        "\n",
        "checkpointer = ModelCheckpoint(filepath='saved_models/weights.best.basic_cnn.hdf5', \n",
        "                               verbose=1, save_best_only=True)\n",
        "start = datetime.now()\n",
        "\n",
        "history = model.fit(X_train, y_train, batch_size=num_batch_size, epochs=num_epochs, validation_data=(X_test, y_test), callbacks=[checkpointer], verbose=1)\n",
        "\n",
        "\n",
        "duration = datetime.now() - start\n",
        "print(\"Training completed in time: \", duration)\n",
        "\n"
      ],
      "metadata": {
        "colab": {
          "base_uri": "https://localhost:8080/"
        },
        "id": "SdPYQP7bm8xM",
        "outputId": "972d7ec6-0f64-4102-d52c-b1b34ad90849"
      },
      "execution_count": null,
      "outputs": [
        {
          "output_type": "stream",
          "name": "stdout",
          "text": [
            "Epoch 1/100\n",
            "13/13 [==============================] - ETA: 0s - loss: 0.6179 - accuracy: 0.6671\n",
            "Epoch 00001: val_loss improved from inf to 0.63524, saving model to saved_models/weights.best.basic_cnn.hdf5\n",
            "13/13 [==============================] - 17s 1s/step - loss: 0.6179 - accuracy: 0.6671 - val_loss: 0.6352 - val_accuracy: 0.6532\n",
            "Epoch 2/100\n",
            "13/13 [==============================] - ETA: 0s - loss: 0.5889 - accuracy: 0.6873\n",
            "Epoch 00002: val_loss improved from 0.63524 to 0.61760, saving model to saved_models/weights.best.basic_cnn.hdf5\n",
            "13/13 [==============================] - 16s 1s/step - loss: 0.5889 - accuracy: 0.6873 - val_loss: 0.6176 - val_accuracy: 0.6532\n",
            "Epoch 3/100\n",
            "13/13 [==============================] - ETA: 0s - loss: 0.5756 - accuracy: 0.6861\n",
            "Epoch 00003: val_loss improved from 0.61760 to 0.60860, saving model to saved_models/weights.best.basic_cnn.hdf5\n",
            "13/13 [==============================] - 16s 1s/step - loss: 0.5756 - accuracy: 0.6861 - val_loss: 0.6086 - val_accuracy: 0.6734\n",
            "Epoch 4/100\n",
            "13/13 [==============================] - ETA: 0s - loss: 0.5658 - accuracy: 0.6943\n",
            "Epoch 00004: val_loss improved from 0.60860 to 0.58666, saving model to saved_models/weights.best.basic_cnn.hdf5\n",
            "13/13 [==============================] - 16s 1s/step - loss: 0.5658 - accuracy: 0.6943 - val_loss: 0.5867 - val_accuracy: 0.6886\n",
            "Epoch 5/100\n",
            "13/13 [==============================] - ETA: 0s - loss: 0.5598 - accuracy: 0.7025\n",
            "Epoch 00005: val_loss improved from 0.58666 to 0.57953, saving model to saved_models/weights.best.basic_cnn.hdf5\n",
            "13/13 [==============================] - 16s 1s/step - loss: 0.5598 - accuracy: 0.7025 - val_loss: 0.5795 - val_accuracy: 0.6987\n",
            "Epoch 6/100\n",
            "13/13 [==============================] - ETA: 0s - loss: 0.5594 - accuracy: 0.7158\n",
            "Epoch 00006: val_loss improved from 0.57953 to 0.57295, saving model to saved_models/weights.best.basic_cnn.hdf5\n",
            "13/13 [==============================] - 16s 1s/step - loss: 0.5594 - accuracy: 0.7158 - val_loss: 0.5729 - val_accuracy: 0.6962\n",
            "Epoch 7/100\n",
            "13/13 [==============================] - ETA: 0s - loss: 0.5366 - accuracy: 0.7342\n",
            "Epoch 00007: val_loss improved from 0.57295 to 0.55800, saving model to saved_models/weights.best.basic_cnn.hdf5\n",
            "13/13 [==============================] - 16s 1s/step - loss: 0.5366 - accuracy: 0.7342 - val_loss: 0.5580 - val_accuracy: 0.7089\n",
            "Epoch 8/100\n",
            "13/13 [==============================] - ETA: 0s - loss: 0.5427 - accuracy: 0.7361\n",
            "Epoch 00008: val_loss improved from 0.55800 to 0.55514, saving model to saved_models/weights.best.basic_cnn.hdf5\n",
            "13/13 [==============================] - 16s 1s/step - loss: 0.5427 - accuracy: 0.7361 - val_loss: 0.5551 - val_accuracy: 0.7114\n",
            "Epoch 9/100\n",
            "13/13 [==============================] - ETA: 0s - loss: 0.5403 - accuracy: 0.7348\n",
            "Epoch 00009: val_loss did not improve from 0.55514\n",
            "13/13 [==============================] - 16s 1s/step - loss: 0.5403 - accuracy: 0.7348 - val_loss: 0.5584 - val_accuracy: 0.7139\n",
            "Epoch 10/100\n",
            "13/13 [==============================] - ETA: 0s - loss: 0.5291 - accuracy: 0.7462\n",
            "Epoch 00010: val_loss did not improve from 0.55514\n",
            "13/13 [==============================] - 15s 1s/step - loss: 0.5291 - accuracy: 0.7462 - val_loss: 0.5689 - val_accuracy: 0.7190\n",
            "Epoch 11/100\n",
            "13/13 [==============================] - ETA: 0s - loss: 0.5320 - accuracy: 0.7278\n",
            "Epoch 00011: val_loss did not improve from 0.55514\n",
            "13/13 [==============================] - 15s 1s/step - loss: 0.5320 - accuracy: 0.7278 - val_loss: 0.5692 - val_accuracy: 0.7190\n",
            "Epoch 12/100\n",
            "13/13 [==============================] - ETA: 0s - loss: 0.5309 - accuracy: 0.7361\n",
            "Epoch 00012: val_loss did not improve from 0.55514\n",
            "13/13 [==============================] - 15s 1s/step - loss: 0.5309 - accuracy: 0.7361 - val_loss: 0.5597 - val_accuracy: 0.7291\n",
            "Epoch 13/100\n",
            "13/13 [==============================] - ETA: 0s - loss: 0.5282 - accuracy: 0.7361\n",
            "Epoch 00013: val_loss improved from 0.55514 to 0.54356, saving model to saved_models/weights.best.basic_cnn.hdf5\n",
            "13/13 [==============================] - 16s 1s/step - loss: 0.5282 - accuracy: 0.7361 - val_loss: 0.5436 - val_accuracy: 0.7316\n",
            "Epoch 14/100\n",
            "13/13 [==============================] - ETA: 0s - loss: 0.5019 - accuracy: 0.7538\n",
            "Epoch 00014: val_loss improved from 0.54356 to 0.53592, saving model to saved_models/weights.best.basic_cnn.hdf5\n",
            "13/13 [==============================] - 16s 1s/step - loss: 0.5019 - accuracy: 0.7538 - val_loss: 0.5359 - val_accuracy: 0.7392\n",
            "Epoch 15/100\n",
            "13/13 [==============================] - ETA: 0s - loss: 0.5244 - accuracy: 0.7399\n",
            "Epoch 00015: val_loss did not improve from 0.53592\n",
            "13/13 [==============================] - 16s 1s/step - loss: 0.5244 - accuracy: 0.7399 - val_loss: 0.5401 - val_accuracy: 0.7316\n",
            "Epoch 16/100\n",
            "13/13 [==============================] - ETA: 0s - loss: 0.5191 - accuracy: 0.7468\n",
            "Epoch 00016: val_loss did not improve from 0.53592\n",
            "13/13 [==============================] - 15s 1s/step - loss: 0.5191 - accuracy: 0.7468 - val_loss: 0.5379 - val_accuracy: 0.7443\n",
            "Epoch 17/100\n",
            "13/13 [==============================] - ETA: 0s - loss: 0.5124 - accuracy: 0.7449\n",
            "Epoch 00017: val_loss did not improve from 0.53592\n",
            "13/13 [==============================] - 15s 1s/step - loss: 0.5124 - accuracy: 0.7449 - val_loss: 0.5403 - val_accuracy: 0.7468\n",
            "Epoch 18/100\n",
            "13/13 [==============================] - ETA: 0s - loss: 0.5076 - accuracy: 0.7430\n",
            "Epoch 00018: val_loss did not improve from 0.53592\n",
            "13/13 [==============================] - 15s 1s/step - loss: 0.5076 - accuracy: 0.7430 - val_loss: 0.5399 - val_accuracy: 0.7367\n",
            "Epoch 19/100\n",
            "13/13 [==============================] - ETA: 0s - loss: 0.5073 - accuracy: 0.7551\n",
            "Epoch 00019: val_loss improved from 0.53592 to 0.53591, saving model to saved_models/weights.best.basic_cnn.hdf5\n",
            "13/13 [==============================] - 16s 1s/step - loss: 0.5073 - accuracy: 0.7551 - val_loss: 0.5359 - val_accuracy: 0.7316\n",
            "Epoch 20/100\n",
            "13/13 [==============================] - ETA: 0s - loss: 0.5028 - accuracy: 0.7595\n",
            "Epoch 00020: val_loss did not improve from 0.53591\n",
            "13/13 [==============================] - 15s 1s/step - loss: 0.5028 - accuracy: 0.7595 - val_loss: 0.5457 - val_accuracy: 0.7165\n",
            "Epoch 21/100\n",
            "13/13 [==============================] - ETA: 0s - loss: 0.4922 - accuracy: 0.7627\n",
            "Epoch 00021: val_loss improved from 0.53591 to 0.53066, saving model to saved_models/weights.best.basic_cnn.hdf5\n",
            "13/13 [==============================] - 16s 1s/step - loss: 0.4922 - accuracy: 0.7627 - val_loss: 0.5307 - val_accuracy: 0.7367\n",
            "Epoch 22/100\n",
            "13/13 [==============================] - ETA: 0s - loss: 0.4992 - accuracy: 0.7538\n",
            "Epoch 00022: val_loss did not improve from 0.53066\n",
            "13/13 [==============================] - 15s 1s/step - loss: 0.4992 - accuracy: 0.7538 - val_loss: 0.5474 - val_accuracy: 0.7241\n",
            "Epoch 23/100\n",
            "13/13 [==============================] - ETA: 0s - loss: 0.4989 - accuracy: 0.7557\n",
            "Epoch 00023: val_loss did not improve from 0.53066\n",
            "13/13 [==============================] - 15s 1s/step - loss: 0.4989 - accuracy: 0.7557 - val_loss: 0.5338 - val_accuracy: 0.7443\n",
            "Epoch 24/100\n",
            "13/13 [==============================] - ETA: 0s - loss: 0.4902 - accuracy: 0.7595\n",
            "Epoch 00024: val_loss did not improve from 0.53066\n",
            "13/13 [==============================] - 15s 1s/step - loss: 0.4902 - accuracy: 0.7595 - val_loss: 0.5633 - val_accuracy: 0.7190\n",
            "Epoch 25/100\n",
            "13/13 [==============================] - ETA: 0s - loss: 0.4881 - accuracy: 0.7620\n",
            "Epoch 00025: val_loss did not improve from 0.53066\n",
            "13/13 [==============================] - 15s 1s/step - loss: 0.4881 - accuracy: 0.7620 - val_loss: 0.5422 - val_accuracy: 0.7291\n",
            "Epoch 26/100\n",
            "13/13 [==============================] - ETA: 0s - loss: 0.4949 - accuracy: 0.7500\n",
            "Epoch 00026: val_loss did not improve from 0.53066\n",
            "13/13 [==============================] - 15s 1s/step - loss: 0.4949 - accuracy: 0.7500 - val_loss: 0.5324 - val_accuracy: 0.7342\n",
            "Epoch 27/100\n",
            "13/13 [==============================] - ETA: 0s - loss: 0.4938 - accuracy: 0.7576\n",
            "Epoch 00027: val_loss did not improve from 0.53066\n",
            "13/13 [==============================] - 15s 1s/step - loss: 0.4938 - accuracy: 0.7576 - val_loss: 0.5424 - val_accuracy: 0.7367\n",
            "Epoch 28/100\n",
            "13/13 [==============================] - ETA: 0s - loss: 0.4860 - accuracy: 0.7665\n",
            "Epoch 00028: val_loss did not improve from 0.53066\n",
            "13/13 [==============================] - 15s 1s/step - loss: 0.4860 - accuracy: 0.7665 - val_loss: 0.5339 - val_accuracy: 0.7494\n",
            "Epoch 29/100\n",
            "13/13 [==============================] - ETA: 0s - loss: 0.4883 - accuracy: 0.7658\n",
            "Epoch 00029: val_loss improved from 0.53066 to 0.53041, saving model to saved_models/weights.best.basic_cnn.hdf5\n",
            "13/13 [==============================] - 16s 1s/step - loss: 0.4883 - accuracy: 0.7658 - val_loss: 0.5304 - val_accuracy: 0.7544\n",
            "Epoch 30/100\n",
            "13/13 [==============================] - ETA: 0s - loss: 0.4831 - accuracy: 0.7639\n",
            "Epoch 00030: val_loss did not improve from 0.53041\n",
            "13/13 [==============================] - 16s 1s/step - loss: 0.4831 - accuracy: 0.7639 - val_loss: 0.5546 - val_accuracy: 0.7367\n",
            "Epoch 31/100\n",
            "13/13 [==============================] - ETA: 0s - loss: 0.5066 - accuracy: 0.7506\n",
            "Epoch 00031: val_loss did not improve from 0.53041\n",
            "13/13 [==============================] - 15s 1s/step - loss: 0.5066 - accuracy: 0.7506 - val_loss: 0.5401 - val_accuracy: 0.7443\n",
            "Epoch 32/100\n",
            "13/13 [==============================] - ETA: 0s - loss: 0.5007 - accuracy: 0.7595\n",
            "Epoch 00032: val_loss improved from 0.53041 to 0.52330, saving model to saved_models/weights.best.basic_cnn.hdf5\n",
            "13/13 [==============================] - 16s 1s/step - loss: 0.5007 - accuracy: 0.7595 - val_loss: 0.5233 - val_accuracy: 0.7367\n",
            "Epoch 33/100\n",
            "13/13 [==============================] - ETA: 0s - loss: 0.4776 - accuracy: 0.7728\n",
            "Epoch 00033: val_loss did not improve from 0.52330\n",
            "13/13 [==============================] - 15s 1s/step - loss: 0.4776 - accuracy: 0.7728 - val_loss: 0.5261 - val_accuracy: 0.7519\n",
            "Epoch 34/100\n",
            "13/13 [==============================] - ETA: 0s - loss: 0.4827 - accuracy: 0.7557\n",
            "Epoch 00034: val_loss did not improve from 0.52330\n",
            "13/13 [==============================] - 15s 1s/step - loss: 0.4827 - accuracy: 0.7557 - val_loss: 0.5246 - val_accuracy: 0.7494\n",
            "Epoch 35/100\n",
            "13/13 [==============================] - ETA: 0s - loss: 0.4731 - accuracy: 0.7728\n",
            "Epoch 00035: val_loss did not improve from 0.52330\n",
            "13/13 [==============================] - 15s 1s/step - loss: 0.4731 - accuracy: 0.7728 - val_loss: 0.5280 - val_accuracy: 0.7392\n",
            "Epoch 36/100\n",
            "13/13 [==============================] - ETA: 0s - loss: 0.4684 - accuracy: 0.7715\n",
            "Epoch 00036: val_loss did not improve from 0.52330\n",
            "13/13 [==============================] - 15s 1s/step - loss: 0.4684 - accuracy: 0.7715 - val_loss: 0.5299 - val_accuracy: 0.7443\n",
            "Epoch 37/100\n",
            "13/13 [==============================] - ETA: 0s - loss: 0.4733 - accuracy: 0.7671\n",
            "Epoch 00037: val_loss improved from 0.52330 to 0.51885, saving model to saved_models/weights.best.basic_cnn.hdf5\n",
            "13/13 [==============================] - 16s 1s/step - loss: 0.4733 - accuracy: 0.7671 - val_loss: 0.5189 - val_accuracy: 0.7620\n",
            "Epoch 38/100\n",
            "13/13 [==============================] - ETA: 0s - loss: 0.4671 - accuracy: 0.7690\n",
            "Epoch 00038: val_loss improved from 0.51885 to 0.51347, saving model to saved_models/weights.best.basic_cnn.hdf5\n",
            "13/13 [==============================] - 16s 1s/step - loss: 0.4671 - accuracy: 0.7690 - val_loss: 0.5135 - val_accuracy: 0.7443\n",
            "Epoch 39/100\n",
            "13/13 [==============================] - ETA: 0s - loss: 0.4699 - accuracy: 0.7766\n",
            "Epoch 00039: val_loss improved from 0.51347 to 0.51336, saving model to saved_models/weights.best.basic_cnn.hdf5\n",
            "13/13 [==============================] - 16s 1s/step - loss: 0.4699 - accuracy: 0.7766 - val_loss: 0.5134 - val_accuracy: 0.7595\n",
            "Epoch 40/100\n",
            "13/13 [==============================] - ETA: 0s - loss: 0.4636 - accuracy: 0.7823\n",
            "Epoch 00040: val_loss did not improve from 0.51336\n",
            "13/13 [==============================] - 15s 1s/step - loss: 0.4636 - accuracy: 0.7823 - val_loss: 0.5333 - val_accuracy: 0.7392\n",
            "Epoch 41/100\n",
            "13/13 [==============================] - ETA: 0s - loss: 0.4703 - accuracy: 0.7741\n",
            "Epoch 00041: val_loss did not improve from 0.51336\n",
            "13/13 [==============================] - 16s 1s/step - loss: 0.4703 - accuracy: 0.7741 - val_loss: 0.5166 - val_accuracy: 0.7671\n",
            "Epoch 42/100\n",
            "13/13 [==============================] - ETA: 0s - loss: 0.4680 - accuracy: 0.7696\n",
            "Epoch 00042: val_loss improved from 0.51336 to 0.50864, saving model to saved_models/weights.best.basic_cnn.hdf5\n",
            "13/13 [==============================] - 16s 1s/step - loss: 0.4680 - accuracy: 0.7696 - val_loss: 0.5086 - val_accuracy: 0.7544\n",
            "Epoch 43/100\n",
            "13/13 [==============================] - ETA: 0s - loss: 0.4738 - accuracy: 0.7639\n",
            "Epoch 00043: val_loss did not improve from 0.50864\n",
            "13/13 [==============================] - 15s 1s/step - loss: 0.4738 - accuracy: 0.7639 - val_loss: 0.5191 - val_accuracy: 0.7367\n",
            "Epoch 44/100\n",
            "13/13 [==============================] - ETA: 0s - loss: 0.4901 - accuracy: 0.7601\n",
            "Epoch 00044: val_loss did not improve from 0.50864\n",
            "13/13 [==============================] - 16s 1s/step - loss: 0.4901 - accuracy: 0.7601 - val_loss: 0.5227 - val_accuracy: 0.7165\n",
            "Epoch 45/100\n",
            "13/13 [==============================] - ETA: 0s - loss: 0.4729 - accuracy: 0.7589\n",
            "Epoch 00045: val_loss did not improve from 0.50864\n",
            "13/13 [==============================] - 16s 1s/step - loss: 0.4729 - accuracy: 0.7589 - val_loss: 0.5110 - val_accuracy: 0.7494\n",
            "Epoch 46/100\n",
            "13/13 [==============================] - ETA: 0s - loss: 0.4577 - accuracy: 0.7658\n",
            "Epoch 00046: val_loss did not improve from 0.50864\n",
            "13/13 [==============================] - 16s 1s/step - loss: 0.4577 - accuracy: 0.7658 - val_loss: 0.5108 - val_accuracy: 0.7595\n",
            "Epoch 47/100\n",
            "13/13 [==============================] - ETA: 0s - loss: 0.4420 - accuracy: 0.7829\n",
            "Epoch 00047: val_loss did not improve from 0.50864\n",
            "13/13 [==============================] - 15s 1s/step - loss: 0.4420 - accuracy: 0.7829 - val_loss: 0.5108 - val_accuracy: 0.7620\n",
            "Epoch 48/100\n",
            "13/13 [==============================] - ETA: 0s - loss: 0.4460 - accuracy: 0.7816\n",
            "Epoch 00048: val_loss improved from 0.50864 to 0.50754, saving model to saved_models/weights.best.basic_cnn.hdf5\n",
            "13/13 [==============================] - 16s 1s/step - loss: 0.4460 - accuracy: 0.7816 - val_loss: 0.5075 - val_accuracy: 0.7696\n",
            "Epoch 49/100\n",
            "13/13 [==============================] - ETA: 0s - loss: 0.4468 - accuracy: 0.7810\n",
            "Epoch 00049: val_loss did not improve from 0.50754\n",
            "13/13 [==============================] - 16s 1s/step - loss: 0.4468 - accuracy: 0.7810 - val_loss: 0.5111 - val_accuracy: 0.7646\n",
            "Epoch 50/100\n",
            "13/13 [==============================] - ETA: 0s - loss: 0.4484 - accuracy: 0.7880\n",
            "Epoch 00050: val_loss improved from 0.50754 to 0.50610, saving model to saved_models/weights.best.basic_cnn.hdf5\n",
            "13/13 [==============================] - 16s 1s/step - loss: 0.4484 - accuracy: 0.7880 - val_loss: 0.5061 - val_accuracy: 0.7722\n",
            "Epoch 51/100\n",
            "13/13 [==============================] - ETA: 0s - loss: 0.4593 - accuracy: 0.7677\n",
            "Epoch 00051: val_loss did not improve from 0.50610\n",
            "13/13 [==============================] - 15s 1s/step - loss: 0.4593 - accuracy: 0.7677 - val_loss: 0.5114 - val_accuracy: 0.7392\n",
            "Epoch 52/100\n",
            "13/13 [==============================] - ETA: 0s - loss: 0.4541 - accuracy: 0.7778\n",
            "Epoch 00052: val_loss did not improve from 0.50610\n",
            "13/13 [==============================] - 15s 1s/step - loss: 0.4541 - accuracy: 0.7778 - val_loss: 0.5187 - val_accuracy: 0.7342\n",
            "Epoch 53/100\n",
            "13/13 [==============================] - ETA: 0s - loss: 0.4315 - accuracy: 0.7987\n",
            "Epoch 00053: val_loss improved from 0.50610 to 0.50516, saving model to saved_models/weights.best.basic_cnn.hdf5\n",
            "13/13 [==============================] - 16s 1s/step - loss: 0.4315 - accuracy: 0.7987 - val_loss: 0.5052 - val_accuracy: 0.7570\n",
            "Epoch 54/100\n",
            "13/13 [==============================] - ETA: 0s - loss: 0.4384 - accuracy: 0.7930\n",
            "Epoch 00054: val_loss improved from 0.50516 to 0.50120, saving model to saved_models/weights.best.basic_cnn.hdf5\n",
            "13/13 [==============================] - 16s 1s/step - loss: 0.4384 - accuracy: 0.7930 - val_loss: 0.5012 - val_accuracy: 0.7494\n",
            "Epoch 55/100\n",
            "13/13 [==============================] - ETA: 0s - loss: 0.4384 - accuracy: 0.7759\n",
            "Epoch 00055: val_loss did not improve from 0.50120\n",
            "13/13 [==============================] - 16s 1s/step - loss: 0.4384 - accuracy: 0.7759 - val_loss: 0.5053 - val_accuracy: 0.7519\n",
            "Epoch 56/100\n",
            "13/13 [==============================] - ETA: 0s - loss: 0.4350 - accuracy: 0.7886\n",
            "Epoch 00056: val_loss improved from 0.50120 to 0.49641, saving model to saved_models/weights.best.basic_cnn.hdf5\n",
            "13/13 [==============================] - 16s 1s/step - loss: 0.4350 - accuracy: 0.7886 - val_loss: 0.4964 - val_accuracy: 0.7696\n",
            "Epoch 57/100\n",
            "13/13 [==============================] - ETA: 0s - loss: 0.4413 - accuracy: 0.7918\n",
            "Epoch 00057: val_loss did not improve from 0.49641\n",
            "13/13 [==============================] - 15s 1s/step - loss: 0.4413 - accuracy: 0.7918 - val_loss: 0.5282 - val_accuracy: 0.7443\n",
            "Epoch 58/100\n",
            "13/13 [==============================] - ETA: 0s - loss: 0.4570 - accuracy: 0.7734\n",
            "Epoch 00058: val_loss did not improve from 0.49641\n",
            "13/13 [==============================] - 15s 1s/step - loss: 0.4570 - accuracy: 0.7734 - val_loss: 0.5261 - val_accuracy: 0.7519\n",
            "Epoch 59/100\n",
            "13/13 [==============================] - ETA: 0s - loss: 0.4555 - accuracy: 0.7734\n",
            "Epoch 00059: val_loss did not improve from 0.49641\n",
            "13/13 [==============================] - 15s 1s/step - loss: 0.4555 - accuracy: 0.7734 - val_loss: 0.5062 - val_accuracy: 0.7620\n",
            "Epoch 60/100\n",
            "13/13 [==============================] - ETA: 0s - loss: 0.4251 - accuracy: 0.8013\n",
            "Epoch 00060: val_loss did not improve from 0.49641\n",
            "13/13 [==============================] - 15s 1s/step - loss: 0.4251 - accuracy: 0.8013 - val_loss: 0.5087 - val_accuracy: 0.7519\n",
            "Epoch 61/100\n",
            "13/13 [==============================] - ETA: 0s - loss: 0.4523 - accuracy: 0.7791\n",
            "Epoch 00061: val_loss did not improve from 0.49641\n",
            "13/13 [==============================] - 15s 1s/step - loss: 0.4523 - accuracy: 0.7791 - val_loss: 0.5131 - val_accuracy: 0.7519\n",
            "Epoch 62/100\n",
            "13/13 [==============================] - ETA: 0s - loss: 0.4248 - accuracy: 0.7905\n",
            "Epoch 00062: val_loss did not improve from 0.49641\n",
            "13/13 [==============================] - 15s 1s/step - loss: 0.4248 - accuracy: 0.7905 - val_loss: 0.5161 - val_accuracy: 0.7595\n",
            "Epoch 63/100\n",
            "13/13 [==============================] - ETA: 0s - loss: 0.4471 - accuracy: 0.7722\n",
            "Epoch 00063: val_loss did not improve from 0.49641\n",
            "13/13 [==============================] - 15s 1s/step - loss: 0.4471 - accuracy: 0.7722 - val_loss: 0.5091 - val_accuracy: 0.7722\n",
            "Epoch 64/100\n",
            "13/13 [==============================] - ETA: 0s - loss: 0.4296 - accuracy: 0.7930\n",
            "Epoch 00064: val_loss did not improve from 0.49641\n",
            "13/13 [==============================] - 15s 1s/step - loss: 0.4296 - accuracy: 0.7930 - val_loss: 0.5046 - val_accuracy: 0.7696\n",
            "Epoch 65/100\n",
            "13/13 [==============================] - ETA: 0s - loss: 0.4303 - accuracy: 0.7981\n",
            "Epoch 00065: val_loss improved from 0.49641 to 0.49432, saving model to saved_models/weights.best.basic_cnn.hdf5\n",
            "13/13 [==============================] - 16s 1s/step - loss: 0.4303 - accuracy: 0.7981 - val_loss: 0.4943 - val_accuracy: 0.7823\n",
            "Epoch 66/100\n",
            "13/13 [==============================] - ETA: 0s - loss: 0.4232 - accuracy: 0.7829\n",
            "Epoch 00066: val_loss did not improve from 0.49432\n",
            "13/13 [==============================] - 15s 1s/step - loss: 0.4232 - accuracy: 0.7829 - val_loss: 0.4958 - val_accuracy: 0.7671\n",
            "Epoch 67/100\n",
            "13/13 [==============================] - ETA: 0s - loss: 0.4217 - accuracy: 0.7981\n",
            "Epoch 00067: val_loss did not improve from 0.49432\n",
            "13/13 [==============================] - 15s 1s/step - loss: 0.4217 - accuracy: 0.7981 - val_loss: 0.4973 - val_accuracy: 0.7570\n",
            "Epoch 68/100\n",
            "13/13 [==============================] - ETA: 0s - loss: 0.4117 - accuracy: 0.7956\n",
            "Epoch 00068: val_loss did not improve from 0.49432\n",
            "13/13 [==============================] - 15s 1s/step - loss: 0.4117 - accuracy: 0.7956 - val_loss: 0.5086 - val_accuracy: 0.7494\n",
            "Epoch 69/100\n",
            "13/13 [==============================] - ETA: 0s - loss: 0.4229 - accuracy: 0.7956\n",
            "Epoch 00069: val_loss did not improve from 0.49432\n",
            "13/13 [==============================] - 15s 1s/step - loss: 0.4229 - accuracy: 0.7956 - val_loss: 0.5122 - val_accuracy: 0.7316\n",
            "Epoch 70/100\n",
            "13/13 [==============================] - ETA: 0s - loss: 0.4135 - accuracy: 0.8000\n",
            "Epoch 00070: val_loss did not improve from 0.49432\n",
            "13/13 [==============================] - 15s 1s/step - loss: 0.4135 - accuracy: 0.8000 - val_loss: 0.4985 - val_accuracy: 0.7696\n",
            "Epoch 71/100\n",
            "13/13 [==============================] - ETA: 0s - loss: 0.4078 - accuracy: 0.7975\n",
            "Epoch 00071: val_loss did not improve from 0.49432\n",
            "13/13 [==============================] - 15s 1s/step - loss: 0.4078 - accuracy: 0.7975 - val_loss: 0.4978 - val_accuracy: 0.7722\n",
            "Epoch 72/100\n",
            "13/13 [==============================] - ETA: 0s - loss: 0.4094 - accuracy: 0.7956\n",
            "Epoch 00072: val_loss did not improve from 0.49432\n",
            "13/13 [==============================] - 15s 1s/step - loss: 0.4094 - accuracy: 0.7956 - val_loss: 0.5158 - val_accuracy: 0.7342\n",
            "Epoch 73/100\n",
            "13/13 [==============================] - ETA: 0s - loss: 0.4266 - accuracy: 0.7886\n",
            "Epoch 00073: val_loss did not improve from 0.49432\n",
            "13/13 [==============================] - 15s 1s/step - loss: 0.4266 - accuracy: 0.7886 - val_loss: 0.4992 - val_accuracy: 0.7696\n",
            "Epoch 74/100\n",
            "13/13 [==============================] - ETA: 0s - loss: 0.4193 - accuracy: 0.7962\n",
            "Epoch 00074: val_loss did not improve from 0.49432\n",
            "13/13 [==============================] - 15s 1s/step - loss: 0.4193 - accuracy: 0.7962 - val_loss: 0.4944 - val_accuracy: 0.7595\n",
            "Epoch 75/100\n",
            "13/13 [==============================] - ETA: 0s - loss: 0.4041 - accuracy: 0.8057\n",
            "Epoch 00075: val_loss improved from 0.49432 to 0.49138, saving model to saved_models/weights.best.basic_cnn.hdf5\n",
            "13/13 [==============================] - 16s 1s/step - loss: 0.4041 - accuracy: 0.8057 - val_loss: 0.4914 - val_accuracy: 0.7620\n",
            "Epoch 76/100\n",
            "13/13 [==============================] - ETA: 0s - loss: 0.3997 - accuracy: 0.8038\n",
            "Epoch 00076: val_loss improved from 0.49138 to 0.48757, saving model to saved_models/weights.best.basic_cnn.hdf5\n",
            "13/13 [==============================] - 16s 1s/step - loss: 0.3997 - accuracy: 0.8038 - val_loss: 0.4876 - val_accuracy: 0.7595\n",
            "Epoch 77/100\n",
            "13/13 [==============================] - ETA: 0s - loss: 0.4070 - accuracy: 0.8000\n",
            "Epoch 00077: val_loss did not improve from 0.48757\n",
            "13/13 [==============================] - 15s 1s/step - loss: 0.4070 - accuracy: 0.8000 - val_loss: 0.4975 - val_accuracy: 0.7494\n",
            "Epoch 78/100\n",
            "13/13 [==============================] - ETA: 0s - loss: 0.3995 - accuracy: 0.8051\n",
            "Epoch 00078: val_loss did not improve from 0.48757\n",
            "13/13 [==============================] - 15s 1s/step - loss: 0.3995 - accuracy: 0.8051 - val_loss: 0.5024 - val_accuracy: 0.7519\n",
            "Epoch 79/100\n",
            "13/13 [==============================] - ETA: 0s - loss: 0.4176 - accuracy: 0.7930\n",
            "Epoch 00079: val_loss did not improve from 0.48757\n",
            "13/13 [==============================] - 15s 1s/step - loss: 0.4176 - accuracy: 0.7930 - val_loss: 0.4914 - val_accuracy: 0.7544\n",
            "Epoch 80/100\n",
            "13/13 [==============================] - ETA: 0s - loss: 0.3899 - accuracy: 0.8095\n",
            "Epoch 00080: val_loss did not improve from 0.48757\n",
            "13/13 [==============================] - 15s 1s/step - loss: 0.3899 - accuracy: 0.8095 - val_loss: 0.4946 - val_accuracy: 0.7646\n",
            "Epoch 81/100\n",
            "13/13 [==============================] - ETA: 0s - loss: 0.4063 - accuracy: 0.8006\n",
            "Epoch 00081: val_loss did not improve from 0.48757\n",
            "13/13 [==============================] - 15s 1s/step - loss: 0.4063 - accuracy: 0.8006 - val_loss: 0.4879 - val_accuracy: 0.7722\n",
            "Epoch 82/100\n",
            "13/13 [==============================] - ETA: 0s - loss: 0.3924 - accuracy: 0.8101\n",
            "Epoch 00082: val_loss improved from 0.48757 to 0.48460, saving model to saved_models/weights.best.basic_cnn.hdf5\n",
            "13/13 [==============================] - 16s 1s/step - loss: 0.3924 - accuracy: 0.8101 - val_loss: 0.4846 - val_accuracy: 0.7797\n",
            "Epoch 83/100\n",
            "13/13 [==============================] - ETA: 0s - loss: 0.4079 - accuracy: 0.8070\n",
            "Epoch 00083: val_loss did not improve from 0.48460\n",
            "13/13 [==============================] - 15s 1s/step - loss: 0.4079 - accuracy: 0.8070 - val_loss: 0.4896 - val_accuracy: 0.7747\n",
            "Epoch 84/100\n",
            "13/13 [==============================] - ETA: 0s - loss: 0.3970 - accuracy: 0.8095\n",
            "Epoch 00084: val_loss did not improve from 0.48460\n",
            "13/13 [==============================] - 15s 1s/step - loss: 0.3970 - accuracy: 0.8095 - val_loss: 0.4871 - val_accuracy: 0.7772\n",
            "Epoch 85/100\n",
            "13/13 [==============================] - ETA: 0s - loss: 0.3984 - accuracy: 0.8013\n",
            "Epoch 00085: val_loss did not improve from 0.48460\n",
            "13/13 [==============================] - 15s 1s/step - loss: 0.3984 - accuracy: 0.8013 - val_loss: 0.4849 - val_accuracy: 0.7696\n",
            "Epoch 86/100\n",
            "13/13 [==============================] - ETA: 0s - loss: 0.3953 - accuracy: 0.8082\n",
            "Epoch 00086: val_loss did not improve from 0.48460\n",
            "13/13 [==============================] - 15s 1s/step - loss: 0.3953 - accuracy: 0.8082 - val_loss: 0.5163 - val_accuracy: 0.7367\n",
            "Epoch 87/100\n",
            "13/13 [==============================] - ETA: 0s - loss: 0.3958 - accuracy: 0.8190\n",
            "Epoch 00087: val_loss did not improve from 0.48460\n",
            "13/13 [==============================] - 15s 1s/step - loss: 0.3958 - accuracy: 0.8190 - val_loss: 0.4926 - val_accuracy: 0.7494\n",
            "Epoch 88/100\n",
            "13/13 [==============================] - ETA: 0s - loss: 0.3791 - accuracy: 0.8196\n",
            "Epoch 00088: val_loss did not improve from 0.48460\n",
            "13/13 [==============================] - 15s 1s/step - loss: 0.3791 - accuracy: 0.8196 - val_loss: 0.4861 - val_accuracy: 0.7722\n",
            "Epoch 89/100\n",
            "13/13 [==============================] - ETA: 0s - loss: 0.3783 - accuracy: 0.8291\n",
            "Epoch 00089: val_loss did not improve from 0.48460\n",
            "13/13 [==============================] - 15s 1s/step - loss: 0.3783 - accuracy: 0.8291 - val_loss: 0.4890 - val_accuracy: 0.7620\n",
            "Epoch 90/100\n",
            "13/13 [==============================] - ETA: 0s - loss: 0.3867 - accuracy: 0.8127\n",
            "Epoch 00090: val_loss did not improve from 0.48460\n",
            "13/13 [==============================] - 15s 1s/step - loss: 0.3867 - accuracy: 0.8127 - val_loss: 0.4873 - val_accuracy: 0.7468\n",
            "Epoch 91/100\n",
            "13/13 [==============================] - ETA: 0s - loss: 0.3778 - accuracy: 0.8304\n",
            "Epoch 00091: val_loss did not improve from 0.48460\n",
            "13/13 [==============================] - 15s 1s/step - loss: 0.3778 - accuracy: 0.8304 - val_loss: 0.4891 - val_accuracy: 0.7620\n",
            "Epoch 92/100\n",
            "13/13 [==============================] - ETA: 0s - loss: 0.3741 - accuracy: 0.8234\n",
            "Epoch 00092: val_loss did not improve from 0.48460\n",
            "13/13 [==============================] - 15s 1s/step - loss: 0.3741 - accuracy: 0.8234 - val_loss: 0.4918 - val_accuracy: 0.7570\n",
            "Epoch 93/100\n",
            "13/13 [==============================] - ETA: 0s - loss: 0.3639 - accuracy: 0.8253\n",
            "Epoch 00093: val_loss did not improve from 0.48460\n",
            "13/13 [==============================] - 15s 1s/step - loss: 0.3639 - accuracy: 0.8253 - val_loss: 0.4871 - val_accuracy: 0.7570\n",
            "Epoch 94/100\n",
            "13/13 [==============================] - ETA: 0s - loss: 0.3966 - accuracy: 0.8127\n",
            "Epoch 00094: val_loss improved from 0.48460 to 0.48135, saving model to saved_models/weights.best.basic_cnn.hdf5\n",
            "13/13 [==============================] - 16s 1s/step - loss: 0.3966 - accuracy: 0.8127 - val_loss: 0.4814 - val_accuracy: 0.7671\n",
            "Epoch 95/100\n",
            "13/13 [==============================] - ETA: 0s - loss: 0.3814 - accuracy: 0.8228\n",
            "Epoch 00095: val_loss improved from 0.48135 to 0.47470, saving model to saved_models/weights.best.basic_cnn.hdf5\n",
            "13/13 [==============================] - 16s 1s/step - loss: 0.3814 - accuracy: 0.8228 - val_loss: 0.4747 - val_accuracy: 0.7646\n",
            "Epoch 96/100\n",
            "13/13 [==============================] - ETA: 0s - loss: 0.3707 - accuracy: 0.8209\n",
            "Epoch 00096: val_loss did not improve from 0.47470\n",
            "13/13 [==============================] - 15s 1s/step - loss: 0.3707 - accuracy: 0.8209 - val_loss: 0.4817 - val_accuracy: 0.7646\n",
            "Epoch 97/100\n",
            "13/13 [==============================] - ETA: 0s - loss: 0.3753 - accuracy: 0.8196\n",
            "Epoch 00097: val_loss did not improve from 0.47470\n",
            "13/13 [==============================] - 15s 1s/step - loss: 0.3753 - accuracy: 0.8196 - val_loss: 0.4806 - val_accuracy: 0.7620\n",
            "Epoch 98/100\n",
            "13/13 [==============================] - ETA: 0s - loss: 0.3775 - accuracy: 0.8215\n",
            "Epoch 00098: val_loss did not improve from 0.47470\n",
            "13/13 [==============================] - 15s 1s/step - loss: 0.3775 - accuracy: 0.8215 - val_loss: 0.5052 - val_accuracy: 0.7316\n",
            "Epoch 99/100\n",
            "13/13 [==============================] - ETA: 0s - loss: 0.3695 - accuracy: 0.8272\n",
            "Epoch 00099: val_loss did not improve from 0.47470\n",
            "13/13 [==============================] - 15s 1s/step - loss: 0.3695 - accuracy: 0.8272 - val_loss: 0.4766 - val_accuracy: 0.7570\n",
            "Epoch 100/100\n",
            "13/13 [==============================] - ETA: 0s - loss: 0.3807 - accuracy: 0.8203\n",
            "Epoch 00100: val_loss did not improve from 0.47470\n",
            "13/13 [==============================] - 15s 1s/step - loss: 0.3807 - accuracy: 0.8203 - val_loss: 0.4847 - val_accuracy: 0.7595\n",
            "Training completed in time:  0:25:53.826667\n"
          ]
        }
      ]
    },
    {
      "cell_type": "code",
      "source": [
        "score = model.evaluate(X_train, y_train, verbose=0)\n",
        "print(\"Training Accuracy: \", score[1])\n",
        "\n",
        "score = model.evaluate(X_test, y_test, verbose=0)\n",
        "print(\"Testing Accuracy: \", score[1])"
      ],
      "metadata": {
        "colab": {
          "base_uri": "https://localhost:8080/"
        },
        "id": "JO87nlHhm_yc",
        "outputId": "a0f935f7-2882-4ebf-908d-382ec70eabd3"
      },
      "execution_count": null,
      "outputs": [
        {
          "output_type": "stream",
          "name": "stdout",
          "text": [
            "Training Accuracy:  0.8702531456947327\n",
            "Testing Accuracy:  0.7594936490058899\n"
          ]
        }
      ]
    },
    {
      "cell_type": "code",
      "source": [
        "history_df = pd.DataFrame(history.history)\n",
        "# Start the plot at epoch 5\n",
        "history_df.loc[:, ['loss', 'val_loss']].plot()\n",
        "history_df.loc[:, ['accuracy', 'val_accuracy']].plot()\n",
        "\n",
        "print((\"Best Validation Loss: {:0.4f}\" +\\\n",
        "      \"\\nBest Validation Accuracy: {:0.4f}\")\\\n",
        "      .format(history_df['val_loss'].min(), \n",
        "              history_df['val_accuracy'].max()))"
      ],
      "metadata": {
        "colab": {
          "base_uri": "https://localhost:8080/",
          "height": 548
        },
        "id": "ouJtdGpHnBUX",
        "outputId": "0eb919aa-7c97-4f3b-a0d7-aa9f4c7b7805"
      },
      "execution_count": null,
      "outputs": [
        {
          "output_type": "stream",
          "name": "stdout",
          "text": [
            "Best Validation Loss: 0.4747\n",
            "Best Validation Accuracy: 0.7823\n"
          ]
        },
        {
          "output_type": "display_data",
          "data": {
            "image/png": "[encoded data removed]",
            "text/plain": [
              "<Figure size 432x288 with 1 Axes>"
            ]
          },
          "metadata": {
            "needs_background": "light"
          }
        },
        {
          "output_type": "display_data",
          "data": {
            "image/png": "[encoded data removed]",
            "text/plain": [
              "<Figure size 432x288 with 1 Axes>"
            ]
          },
          "metadata": {
            "needs_background": "light"
          }
        }
      ]
    },
    {
      "cell_type": "code",
      "source": [
        "Y_Pred = model.predict(X_test)"
      ],
      "metadata": {
        "id": "b_dIJHqZnF7Z"
      },
      "execution_count": null,
      "outputs": []
    },
    {
      "cell_type": "code",
      "source": [
        "y_true= (y_test[:,0])\n",
        "y_true=np.argmax(y_test)\n",
        "print(y_true)"
      ],
      "metadata": {
        "colab": {
          "base_uri": "https://localhost:8080/"
        },
        "id": "HhLU_9fbnHvh",
        "outputId": "1d8b4e92-6df1-4b50-8079-c85012dc570d"
      },
      "execution_count": null,
      "outputs": [
        {
          "output_type": "stream",
          "name": "stdout",
          "text": [
            "1\n"
          ]
        }
      ]
    },
    {
      "cell_type": "code",
      "source": [
        "y_pred=model.predict(X_test)\n",
        "prediction_int = np.zeros_like(y_pred)\n",
        "prediction_int[y_pred > 0.5] = 1"
      ],
      "metadata": {
        "id": "SrtBtRFEnJLL"
      },
      "execution_count": null,
      "outputs": []
    },
    {
      "cell_type": "code",
      "source": [
        "from sklearn.metrics import confusion_matrix\n",
        "\n",
        "\n",
        "cm=confusion_matrix(y_test.argmax(axis=1), prediction_int.argmax(axis=1))\n",
        "\n",
        "#cm = confusion_matrix(y_test1, prediction_int)\n",
        "print(cm)"
      ],
      "metadata": {
        "colab": {
          "base_uri": "https://localhost:8080/"
        },
        "id": "x49oTLDxnKbT",
        "outputId": "45450d90-1c9c-461d-a84f-afd387df37c6"
      },
      "execution_count": null,
      "outputs": [
        {
          "output_type": "stream",
          "name": "stdout",
          "text": [
            "[[ 83  57]\n",
            " [ 37 214]]\n"
          ]
        }
      ]
    },
    {
      "cell_type": "code",
      "source": [
        "import seaborn as sn\n",
        "plt.figure(figsize = (7,4))\n",
        "sn.heatmap(cm, annot=True, fmt=\"d\")"
      ],
      "metadata": {
        "colab": {
          "base_uri": "https://localhost:8080/",
          "height": 283
        },
        "id": "eqZhIjCNvH2a",
        "outputId": "26906f06-e808-40e4-a42e-a0089648c63e"
      },
      "execution_count": null,
      "outputs": [
        {
          "output_type": "execute_result",
          "data": {
            "text/plain": [
              "<matplotlib.axes._subplots.AxesSubplot at 0x7f9cc21be4d0>"
            ]
          },
          "metadata": {},
          "execution_count": 140
        },
        {
          "output_type": "display_data",
          "data": {
            "image/png": "[encoded data removed]",
            "text/plain": [
              "<Figure size 504x288 with 2 Axes>"
            ]
          },
          "metadata": {
            "needs_background": "light"
          }
        }
      ]
    },
    {
      "cell_type": "code",
      "source": [
        "import sklearn\n",
        "from sklearn.metrics import precision_score\n",
        "from sklearn.metrics import recall_score\n",
        "from sklearn.metrics import f1_score"
      ],
      "metadata": {
        "id": "_gVPVtVOnNXs"
      },
      "execution_count": null,
      "outputs": []
    },
    {
      "cell_type": "code",
      "source": [
        "acc = sklearn.metrics.accuracy_score(y_test.argmax(axis=1), prediction_int.argmax(axis=1))\n",
        "print('Accuracy: %f' % acc)\n",
        "precision = precision_score(y_test.argmax(axis=1), prediction_int.argmax(axis=1))\n",
        "print('Precision: %f' % precision)\n",
        "# recall: tp / (tp + fn)\n",
        "recall = recall_score(y_test.argmax(axis=1), prediction_int.argmax(axis=1))\n",
        "print('Recall: %f' % recall)\n",
        "# f1: 2 tp / (2 tp + fp + fn)\n",
        "f1 = f1_score(y_test.argmax(axis=1), prediction_int.argmax(axis=1))\n",
        "print('F1 score: %f' % f1)"
      ],
      "metadata": {
        "colab": {
          "base_uri": "https://localhost:8080/"
        },
        "id": "5WAa_1VCnO1J",
        "outputId": "fb7f71b7-be93-4f31-e86f-b84ad4f119e1"
      },
      "execution_count": null,
      "outputs": [
        {
          "output_type": "stream",
          "name": "stdout",
          "text": [
            "Accuracy: 0.759591\n",
            "Precision: 0.789668\n",
            "Recall: 0.852590\n",
            "F1 score: 0.819923\n"
          ]
        }
      ]
    }
  ]
}